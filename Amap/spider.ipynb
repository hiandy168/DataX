{
 "cells": [
  {
   "cell_type": "code",
   "execution_count": 20,
   "metadata": {},
   "outputs": [],
   "source": [
    "import requests as req"
   ]
  },
  {
   "cell_type": "code",
   "execution_count": 21,
   "metadata": {},
   "outputs": [],
   "source": [
    "import re"
   ]
  },
  {
   "cell_type": "code",
   "execution_count": 69,
   "metadata": {},
   "outputs": [],
   "source": [
    "from db import DB"
   ]
  },
  {
   "cell_type": "code",
   "execution_count": 24,
   "metadata": {},
   "outputs": [],
   "source": [
    "headers = {\"Referer\": \"http://lbsbbs.amap.com/login.php?callback=http://lbsbbs.amap.com/forum.php?mod=viewthread&tid=28659\"}"
   ]
  },
  {
   "cell_type": "code",
   "execution_count": 25,
   "metadata": {},
   "outputs": [],
   "source": [
    "res = req.get(url, headers = headers)"
   ]
  },
  {
   "cell_type": "code",
   "execution_count": 26,
   "metadata": {
    "scrolled": false
   },
   "outputs": [
    {
     "data": {
      "text/plain": [
       "'昨天我到火车站，打开导航。他选的线路是最近的，但我知道是最堵的线。所以我选择走环线，车开了一半，导航死活不改路线，总是提醒我前方调头。等我开到快到火车站的时候，还在要我调头，这系统有什么用，被这导航搞得太郁闷了。前提是以经更新最新版了。 你们有这种情况吗？'"
      ]
     },
     "execution_count": 26,
     "metadata": {},
     "output_type": "execute_result"
    }
   ],
   "source": [
    "rePost.findall(res.text)[0].strip()"
   ]
  },
  {
   "cell_type": "code",
   "execution_count": 71,
   "metadata": {},
   "outputs": [],
   "source": [
    "reItem = re.compile(r'<tbody id=\"normalthread_(?P<tid>\\d+)\">(?P<item>[\\s\\S]*?)<\\/tbody>')\n",
    "reTitleTh = re.compile(r'<th class=\"new\">([\\s\\S]*?)<\\/th>')\n",
    "reEm = re.compile(r'<em>([\\s\\S]*?)<\\/em>')\n",
    "reTitle = re.compile(r'<a.*?class=\"s xst\".*?>([\\s\\S]+?)<\\/a>')\n",
    "reDate = re.compile(r'(\\d{4}-\\d+-\\d+)')\n",
    "rePost = re.compile(r'<td class=\"t_f\" id=\"postmessage_\\d+\">([\\s\\S]*?)<\\/td>')"
   ]
  },
  {
   "cell_type": "code",
   "execution_count": 58,
   "metadata": {},
   "outputs": [],
   "source": [
    "def fetch(url):\n",
    "    headers = {\"Referer\": \"http://lbsbbs.amap.com/login.php?callback={}\".format(url)}\n",
    "    res = req.get(url, headers = headers)\n",
    "    return res"
   ]
  },
  {
   "cell_type": "code",
   "execution_count": 64,
   "metadata": {},
   "outputs": [],
   "source": [
    "def trip_tag(s):\n",
    "    deTag = re.sub(r'<.*?>', '', s).strip()\n",
    "    deBrack = re.sub(r'\\[|\\]', '', deTag)\n",
    "    return deBrack"
   ]
  },
  {
   "cell_type": "code",
   "execution_count": 65,
   "metadata": {},
   "outputs": [],
   "source": [
    "ENT_PAT = 'http://lbsbbs.amap.com/forum.php?mod=forumdisplay&fid=57&page={}'\n",
    "DET_PAT = 'http://lbsbbs.amap.com/forum.php?mod=viewthread&tid={}'"
   ]
  },
  {
   "cell_type": "code",
   "execution_count": 70,
   "metadata": {
    "scrolled": false
   },
   "outputs": [],
   "source": [
    "for page in range(1, 381):\n",
    "    page_url = ENT_PAT.format(page)\n",
    "    \n",
    "    res = fetch(page_url)\n",
    "    text = res.text\n",
    "    \n",
    "    posts = []\n",
    "    \n",
    "    for m in reItem.finditer(text):\n",
    "        post = {}\n",
    "        \n",
    "        tid = m.group(\"tid\")\n",
    "        item = m.group(\"item\")\n",
    "        titleTh = reTitleTh.findall(item)[0]\n",
    "        ems = reEm.findall(titleTh)\n",
    "        title = reTitle.findall(titleTh)[0]\n",
    "        \n",
    "        post['tid'] = tid\n",
    "        post['url'] = DET_PAT.format(tid)\n",
    "        post['title'] = title\n",
    "        post['status'] = trip_tag(ems[0])\n",
    "        if len(ems) > 1:\n",
    "            post['tag'] = trip_tag(ems[1])\n",
    "        \n",
    "        post['date'] = reDate.findall(item)[0]\n",
    "        posts.append(post)\n",
    "    DB.insert_many(posts)"
   ]
  },
  {
   "cell_type": "code",
   "execution_count": 78,
   "metadata": {
    "scrolled": true
   },
   "outputs": [
    {
     "name": "stdout",
     "output_type": "stream",
     "text": [
      "http://lbsbbs.amap.com/forum.php?mod=viewthread&tid=19993\n"
     ]
    },
    {
     "ename": "IndexError",
     "evalue": "list index out of range",
     "output_type": "error",
     "traceback": [
      "\u001b[0;31m---------------------------------------------------------------------------\u001b[0m",
      "\u001b[0;31mIndexError\u001b[0m                                Traceback (most recent call last)",
      "\u001b[0;32m<ipython-input-78-30445720fc9a>\u001b[0m in \u001b[0;36m<module>\u001b[0;34m()\u001b[0m\n\u001b[1;32m      6\u001b[0m         \u001b[0mres\u001b[0m \u001b[0;34m=\u001b[0m \u001b[0mfetch\u001b[0m\u001b[0;34m(\u001b[0m\u001b[0murl\u001b[0m\u001b[0;34m)\u001b[0m\u001b[0;34m\u001b[0m\u001b[0m\n\u001b[1;32m      7\u001b[0m \u001b[0;34m\u001b[0m\u001b[0m\n\u001b[0;32m----> 8\u001b[0;31m         \u001b[0mcontent\u001b[0m \u001b[0;34m=\u001b[0m \u001b[0mrePost\u001b[0m\u001b[0;34m.\u001b[0m\u001b[0mfindall\u001b[0m\u001b[0;34m(\u001b[0m\u001b[0mres\u001b[0m\u001b[0;34m.\u001b[0m\u001b[0mtext\u001b[0m\u001b[0;34m)\u001b[0m\u001b[0;34m[\u001b[0m\u001b[0;36m0\u001b[0m\u001b[0;34m]\u001b[0m\u001b[0;34m.\u001b[0m\u001b[0mstrip\u001b[0m\u001b[0;34m(\u001b[0m\u001b[0;34m)\u001b[0m\u001b[0;34m\u001b[0m\u001b[0m\n\u001b[0m\u001b[1;32m      9\u001b[0m     \u001b[0;32melse\u001b[0m\u001b[0;34m:\u001b[0m\u001b[0;34m\u001b[0m\u001b[0m\n\u001b[1;32m     10\u001b[0m         \u001b[0mcontent\u001b[0m \u001b[0;34m=\u001b[0m \u001b[0;34m\"\"\u001b[0m\u001b[0;34m\u001b[0m\u001b[0m\n",
      "\u001b[0;31mIndexError\u001b[0m: list index out of range"
     ]
    }
   ],
   "source": [
    "post = DB.find_one({\"p\": False})\n",
    "while post:\n",
    "    url = post['url']\n",
    "    print(url)\n",
    "    if url:\n",
    "        res = fetch(url)\n",
    "    \n",
    "        content = rePost.findall(res.text)[0].strip()\n",
    "    else:\n",
    "        content = \"\"\n",
    "    DB.update_one({\"tid\": post[\"tid\"]}, {\"$set\": {\"p\": True, \"content\": content}})\n",
    "    post = DB.find_one({\"p\": False})"
   ]
  },
  {
   "cell_type": "code",
   "execution_count": 79,
   "metadata": {},
   "outputs": [],
   "source": [
    "import pandas as pd"
   ]
  },
  {
   "cell_type": "code",
   "execution_count": 85,
   "metadata": {},
   "outputs": [],
   "source": [
    "df = pd.DataFrame(list(DB.find({\"p\":True}, {\"_id\": 0, \"url\": 0, \"p\": 0})))"
   ]
  },
  {
   "cell_type": "code",
   "execution_count": 86,
   "metadata": {},
   "outputs": [
    {
     "data": {
      "text/html": [
       "<div>\n",
       "<style>\n",
       "    .dataframe thead tr:only-child th {\n",
       "        text-align: right;\n",
       "    }\n",
       "\n",
       "    .dataframe thead th {\n",
       "        text-align: left;\n",
       "    }\n",
       "\n",
       "    .dataframe tbody tr th {\n",
       "        vertical-align: top;\n",
       "    }\n",
       "</style>\n",
       "<table border=\"1\" class=\"dataframe\">\n",
       "  <thead>\n",
       "    <tr style=\"text-align: right;\">\n",
       "      <th></th>\n",
       "      <th>content</th>\n",
       "      <th>date</th>\n",
       "      <th>status</th>\n",
       "      <th>tag</th>\n",
       "      <th>tid</th>\n",
       "      <th>title</th>\n",
       "    </tr>\n",
       "  </thead>\n",
       "  <tbody>\n",
       "    <tr>\n",
       "      <th>0</th>\n",
       "      <td>高德导航车机版在不断升级，各种功能层出不穷，但各种问题越来越多，最后可能过半的车都不能用了。...</td>\n",
       "      <td>2017-12-31</td>\n",
       "      <td>求助中</td>\n",
       "      <td>导航</td>\n",
       "      <td>28850</td>\n",
       "      <td>个人给高德导航的建议</td>\n",
       "    </tr>\n",
       "    <tr>\n",
       "      <th>1</th>\n",
       "      <td>新版装上后跑了一天，遇到叮的一声音乐依旧变小不恢复，这问题咋老不解决，实在无语。原来用的别的...</td>\n",
       "      <td>2017-12-30</td>\n",
       "      <td>求助中</td>\n",
       "      <td>NaN</td>\n",
       "      <td>28844</td>\n",
       "      <td>叮的一声依旧变无声</td>\n",
       "    </tr>\n",
       "    <tr>\n",
       "      <th>2</th>\n",
       "      <td>升级到2.8.2.1363后发现几点缺陷：&lt;br /&gt;\\r\\n1.不能后台（边导航边）下载离...</td>\n",
       "      <td>2018-1-1</td>\n",
       "      <td>求助中</td>\n",
       "      <td>导航</td>\n",
       "      <td>28879</td>\n",
       "      <td>2.8.2.1363几点缺陷</td>\n",
       "    </tr>\n",
       "    <tr>\n",
       "      <th>3</th>\n",
       "      <td>282众测版，导航设置里已经开启了自动缩放比例尺开关，在导航时却一直在50米比例尺级，不会自...</td>\n",
       "      <td>2017-12-31</td>\n",
       "      <td>求助中</td>\n",
       "      <td>导航</td>\n",
       "      <td>28866</td>\n",
       "      <td>282众测版导航比例尺问题</td>\n",
       "    </tr>\n",
       "    <tr>\n",
       "      <th>4</th>\n",
       "      <td>大屏分屏软件Auto_V1.2.2.2254_C04010001120&amp;nbsp; &amp;nbs...</td>\n",
       "      <td>2017-6-4</td>\n",
       "      <td>已解决</td>\n",
       "      <td>适配</td>\n",
       "      <td>25725</td>\n",
       "      <td>大屏分屏软件Auto_V1.2.2.2254_C04010001120</td>\n",
       "    </tr>\n",
       "  </tbody>\n",
       "</table>\n",
       "</div>"
      ],
      "text/plain": [
       "                                             content        date status  tag  \\\n",
       "0  高德导航车机版在不断升级，各种功能层出不穷，但各种问题越来越多，最后可能过半的车都不能用了。...  2017-12-31    求助中   导航   \n",
       "1  新版装上后跑了一天，遇到叮的一声音乐依旧变小不恢复，这问题咋老不解决，实在无语。原来用的别的...  2017-12-30    求助中  NaN   \n",
       "2  升级到2.8.2.1363后发现几点缺陷：<br />\\r\\n1.不能后台（边导航边）下载离...    2018-1-1    求助中   导航   \n",
       "3  282众测版，导航设置里已经开启了自动缩放比例尺开关，在导航时却一直在50米比例尺级，不会自...  2017-12-31    求助中   导航   \n",
       "4  大屏分屏软件Auto_V1.2.2.2254_C04010001120&nbsp; &nbs...    2017-6-4    已解决   适配   \n",
       "\n",
       "     tid                                title  \n",
       "0  28850                           个人给高德导航的建议  \n",
       "1  28844                            叮的一声依旧变无声  \n",
       "2  28879                       2.8.2.1363几点缺陷  \n",
       "3  28866                        282众测版导航比例尺问题  \n",
       "4  25725  大屏分屏软件Auto_V1.2.2.2254_C04010001120  "
      ]
     },
     "execution_count": 86,
     "metadata": {},
     "output_type": "execute_result"
    }
   ],
   "source": [
    "df.head()"
   ]
  },
  {
   "cell_type": "code",
   "execution_count": 87,
   "metadata": {},
   "outputs": [],
   "source": [
    "df.to_csv(\"amap.csv\")"
   ]
  },
  {
   "cell_type": "code",
   "execution_count": 96,
   "metadata": {},
   "outputs": [],
   "source": [
    "def clean_content(s):\n",
    "    s = re.sub(r\"<.*?>\", \"\", s)\n",
    "    s = re.sub(r\"\\s\", \" \", s)\n",
    "    s = re.sub(r\",\", \"，\", s)\n",
    "    return s"
   ]
  },
  {
   "cell_type": "code",
   "execution_count": 100,
   "metadata": {},
   "outputs": [],
   "source": [
    "df['clean_content'] = df['content'].apply(clean_content)"
   ]
  },
  {
   "cell_type": "code",
   "execution_count": 103,
   "metadata": {},
   "outputs": [],
   "source": [
    "df[['tid', 'status', 'tag', 'date', 'title', 'clean_content']].to_csv(\"amap.csv\")"
   ]
  },
  {
   "cell_type": "code",
   "execution_count": null,
   "metadata": {},
   "outputs": [],
   "source": []
  }
 ],
 "metadata": {
  "kernelspec": {
   "display_name": "Python 3",
   "language": "python",
   "name": "python3"
  },
  "language_info": {
   "codemirror_mode": {
    "name": "ipython",
    "version": 3
   },
   "file_extension": ".py",
   "mimetype": "text/x-python",
   "name": "python",
   "nbconvert_exporter": "python",
   "pygments_lexer": "ipython3",
   "version": "3.6.2"
  }
 },
 "nbformat": 4,
 "nbformat_minor": 2
}
