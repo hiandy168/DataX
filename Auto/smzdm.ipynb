{
 "cells": [
  {
   "cell_type": "code",
   "execution_count": 1,
   "metadata": {},
   "outputs": [],
   "source": [
    "from db import DB"
   ]
  },
  {
   "cell_type": "code",
   "execution_count": 2,
   "metadata": {},
   "outputs": [],
   "source": [
    "import requests as req\n",
    "import re"
   ]
  },
  {
   "cell_type": "code",
   "execution_count": 3,
   "metadata": {},
   "outputs": [],
   "source": [
    "URL_PAT = 'http://auto.smzdm.com/zhengche/p{}/'"
   ]
  },
  {
   "cell_type": "code",
   "execution_count": 27,
   "metadata": {},
   "outputs": [],
   "source": [
    "reBlock = re.compile(r'<li class=\"feed-row-wide\">([\\s\\S]*?)<\\/li>')\n",
    "reWorth = re.compile(r'<span class=\"unvoted-wrap\">.*?(\\d+)<\\/span>')\n",
    "reTitle = re.compile(r'<a href=\"http:\\/\\/www.smzdm.com\\/p\\/(\\d+)\\/\".*?>([\\s\\S]*?)<\\/a>')\n",
    "reFavs = re.compile(r'<i class=\"z-icon-star-empty\"><\\/i>(\\d+)</a>')\n",
    "reMall = re.compile(r'<a href=\"\\/malllink\\/(.*?)\"')\n",
    "reCmts = re.compile(r'<a href=\"http:\\/\\/www.smzdm.com\\/p\\/(\\d+)\\/\\/#comments\".*?<\\/i>(\\d+)<\\/a>')"
   ]
  },
  {
   "cell_type": "code",
   "execution_count": 28,
   "metadata": {},
   "outputs": [],
   "source": [
    "page = 1"
   ]
  },
  {
   "cell_type": "code",
   "execution_count": 29,
   "metadata": {},
   "outputs": [],
   "source": [
    "url = URL_PAT.format(page)"
   ]
  },
  {
   "cell_type": "code",
   "execution_count": 30,
   "metadata": {},
   "outputs": [],
   "source": [
    "res = req.get(url)"
   ]
  },
  {
   "cell_type": "code",
   "execution_count": 31,
   "metadata": {},
   "outputs": [],
   "source": [
    "blocks = reBlock.findall(res.text)"
   ]
  },
  {
   "cell_type": "code",
   "execution_count": 32,
   "metadata": {},
   "outputs": [
    {
     "data": {
      "text/plain": [
       "['2', '3']"
      ]
     },
     "execution_count": 32,
     "metadata": {},
     "output_type": "execute_result"
    }
   ],
   "source": [
    "reWorth.findall(blocks[0])"
   ]
  },
  {
   "cell_type": "code",
   "execution_count": 33,
   "metadata": {},
   "outputs": [
    {
     "data": {
      "text/plain": [
       "('8388789',\n",
       " '购车必看 : VOLVO 沃尔沃 S60L 线上专享优惠<span class=\"z-highlight\">免购置税、万元置换礼包、首年车险补贴、1460元礼包</span>')"
      ]
     },
     "execution_count": 33,
     "metadata": {},
     "output_type": "execute_result"
    }
   ],
   "source": [
    "reTitle.findall(blocks[0])[0]"
   ]
  },
  {
   "cell_type": "code",
   "execution_count": 34,
   "metadata": {},
   "outputs": [
    {
     "data": {
      "text/plain": [
       "['2']"
      ]
     },
     "execution_count": 34,
     "metadata": {},
     "output_type": "execute_result"
    }
   ],
   "source": [
    "reFavs.findall(blocks[0])"
   ]
  },
  {
   "cell_type": "code",
   "execution_count": 35,
   "metadata": {},
   "outputs": [
    {
     "data": {
      "text/plain": [
       "['易车']"
      ]
     },
     "execution_count": 35,
     "metadata": {},
     "output_type": "execute_result"
    }
   ],
   "source": [
    "reMall.findall(blocks[0])"
   ]
  },
  {
   "cell_type": "code",
   "execution_count": 36,
   "metadata": {},
   "outputs": [
    {
     "data": {
      "text/plain": [
       "[('8388789', '8')]"
      ]
     },
     "execution_count": 36,
     "metadata": {},
     "output_type": "execute_result"
    }
   ],
   "source": [
    "reCmts.findall(blocks[0])"
   ]
  },
  {
   "cell_type": "code",
   "execution_count": 38,
   "metadata": {},
   "outputs": [],
   "source": [
    "for page in range(1, 34):\n",
    "    \n",
    "    url = URL_PAT.format(page)\n",
    "    html = req.get(url).text\n",
    "    \n",
    "    blocks = reBlock.findall(html)\n",
    "    for item in blocks:\n",
    "        record = {}\n",
    "        votes = reWorth.findall(item)\n",
    "        title = reTitle.findall(item)[0]\n",
    "        favs = reFavs.findall(item)\n",
    "        mall = reMall.findall(item)\n",
    "        cmts = reCmts.findall(item)\n",
    "        pid = cmts[0][0]\n",
    "        comments = int(cmts[0][1])\n",
    " \n",
    "        \n",
    "        record['up'] = int(votes[0])\n",
    "        record['down'] = int(votes[1])\n",
    "        record['pid'] = title[0]\n",
    "        record['title'] = title[1]\n",
    "        record['favs'] = int(favs[0])\n",
    "        record['mall'] = mall[0]\n",
    "        record['comments'] = comments\n",
    "       \n",
    "        DB.insert_one(record)\n",
    "        \n",
    "#         DB.update_one({\"pid\": pid}, {\"$set\": {\"comments\": comments}})\n",
    "        "
   ]
  },
  {
   "cell_type": "code",
   "execution_count": 61,
   "metadata": {},
   "outputs": [],
   "source": [
    "autos = DB.find({})"
   ]
  },
  {
   "cell_type": "code",
   "execution_count": 62,
   "metadata": {},
   "outputs": [],
   "source": [
    "for auto in autos:\n",
    "    title = auto.get(\"title\")\n",
    "    if \":\" in title:\n",
    "        tag, title = title.split(\" : \")\n",
    "    else:\n",
    "        tag = \"NULL\"\n",
    "        \n",
    "    \n",
    "    tt = re.sub(r\"<.*?>\", '|', title)\n",
    "    clean_title, highlight, _ = tt.split(\"|\")\n",
    "    \n",
    "    DB.update_one({\"_id\": auto.get(\"_id\")}, {\"$set\":{\"tag\": tag, \"neat_title\": clean_title, \"hl\": highlight}})\n",
    "    "
   ]
  },
  {
   "cell_type": "code",
   "execution_count": 63,
   "metadata": {},
   "outputs": [],
   "source": [
    "import pandas as PD"
   ]
  },
  {
   "cell_type": "code",
   "execution_count": 72,
   "metadata": {},
   "outputs": [],
   "source": [
    "autos = PD.DataFrame(list(DB.find({}, {\"_id\": 0, \"title\": 0})))"
   ]
  },
  {
   "cell_type": "code",
   "execution_count": 75,
   "metadata": {},
   "outputs": [],
   "source": [
    "autos['NPS'] = (autos['up'] - autos['down'])/(autos['up'] + autos['down'])*100"
   ]
  },
  {
   "cell_type": "code",
   "execution_count": 77,
   "metadata": {},
   "outputs": [
    {
     "data": {
      "text/html": [
       "<div>\n",
       "<style>\n",
       "    .dataframe thead tr:only-child th {\n",
       "        text-align: right;\n",
       "    }\n",
       "\n",
       "    .dataframe thead th {\n",
       "        text-align: left;\n",
       "    }\n",
       "\n",
       "    .dataframe tbody tr th {\n",
       "        vertical-align: top;\n",
       "    }\n",
       "</style>\n",
       "<table border=\"1\" class=\"dataframe\">\n",
       "  <thead>\n",
       "    <tr style=\"text-align: right;\">\n",
       "      <th></th>\n",
       "      <th>comments</th>\n",
       "      <th>down</th>\n",
       "      <th>favs</th>\n",
       "      <th>hl</th>\n",
       "      <th>mall</th>\n",
       "      <th>neat_title</th>\n",
       "      <th>pid</th>\n",
       "      <th>tag</th>\n",
       "      <th>up</th>\n",
       "      <th>NPS</th>\n",
       "    </tr>\n",
       "  </thead>\n",
       "  <tbody>\n",
       "    <tr>\n",
       "      <th>0</th>\n",
       "      <td>9</td>\n",
       "      <td>3</td>\n",
       "      <td>2</td>\n",
       "      <td>免购置税、万元置换礼包、首年车险补贴、1460元礼包</td>\n",
       "      <td>易车</td>\n",
       "      <td>VOLVO 沃尔沃 S60L 线上专享优惠</td>\n",
       "      <td>8388789</td>\n",
       "      <td>购车必看</td>\n",
       "      <td>2</td>\n",
       "      <td>-20.000000</td>\n",
       "    </tr>\n",
       "    <tr>\n",
       "      <th>1</th>\n",
       "      <td>8</td>\n",
       "      <td>6</td>\n",
       "      <td>0</td>\n",
       "      <td>千元音乐礼包、易车1460元礼包</td>\n",
       "      <td>易车</td>\n",
       "      <td>CHERY 奇瑞 瑞虎7 线上专享补贴</td>\n",
       "      <td>8388780</td>\n",
       "      <td>购车必看</td>\n",
       "      <td>30</td>\n",
       "      <td>66.666667</td>\n",
       "    </tr>\n",
       "    <tr>\n",
       "      <th>2</th>\n",
       "      <td>26</td>\n",
       "      <td>18</td>\n",
       "      <td>7</td>\n",
       "      <td>购车直减10000元、赢取iPhone X</td>\n",
       "      <td>车享</td>\n",
       "      <td>别克 君威 2017款 30H 精英型</td>\n",
       "      <td>8388655</td>\n",
       "      <td>NULL</td>\n",
       "      <td>23</td>\n",
       "      <td>12.195122</td>\n",
       "    </tr>\n",
       "    <tr>\n",
       "      <th>3</th>\n",
       "      <td>8</td>\n",
       "      <td>10</td>\n",
       "      <td>6</td>\n",
       "      <td>赢5折购车机会</td>\n",
       "      <td>易车</td>\n",
       "      <td>五菱宝骏 1212 冰点购车节</td>\n",
       "      <td>8385500</td>\n",
       "      <td>购车必看</td>\n",
       "      <td>21</td>\n",
       "      <td>35.483871</td>\n",
       "    </tr>\n",
       "    <tr>\n",
       "      <th>4</th>\n",
       "      <td>474</td>\n",
       "      <td>338</td>\n",
       "      <td>74</td>\n",
       "      <td>基准版44.8万起（补贴前）</td>\n",
       "      <td>NIO中国官网</td>\n",
       "      <td>NIO 蔚来 ES8 中大型纯电动SUV</td>\n",
       "      <td>8384763</td>\n",
       "      <td>新车上市</td>\n",
       "      <td>367</td>\n",
       "      <td>4.113475</td>\n",
       "    </tr>\n",
       "  </tbody>\n",
       "</table>\n",
       "</div>"
      ],
      "text/plain": [
       "   comments  down  favs                          hl     mall  \\\n",
       "0         9     3     2  免购置税、万元置换礼包、首年车险补贴、1460元礼包       易车   \n",
       "1         8     6     0            千元音乐礼包、易车1460元礼包       易车   \n",
       "2        26    18     7       购车直减10000元、赢取iPhone X       车享   \n",
       "3         8    10     6                     赢5折购车机会       易车   \n",
       "4       474   338    74              基准版44.8万起（补贴前）  NIO中国官网   \n",
       "\n",
       "              neat_title      pid   tag   up        NPS  \n",
       "0  VOLVO 沃尔沃 S60L 线上专享优惠  8388789  购车必看    2 -20.000000  \n",
       "1    CHERY 奇瑞 瑞虎7 线上专享补贴  8388780  购车必看   30  66.666667  \n",
       "2    别克 君威 2017款 30H 精英型  8388655  NULL   23  12.195122  \n",
       "3       五菱宝骏 1212 冰点购车节   8385500  购车必看   21  35.483871  \n",
       "4   NIO 蔚来 ES8 中大型纯电动SUV  8384763  新车上市  367   4.113475  "
      ]
     },
     "execution_count": 77,
     "metadata": {},
     "output_type": "execute_result"
    }
   ],
   "source": [
    "autos.head()"
   ]
  },
  {
   "cell_type": "code",
   "execution_count": 79,
   "metadata": {},
   "outputs": [],
   "source": [
    "autos.to_csv(\"AUTO_SMZDM.csv\")"
   ]
  },
  {
   "cell_type": "code",
   "execution_count": null,
   "metadata": {},
   "outputs": [],
   "source": []
  }
 ],
 "metadata": {
  "kernelspec": {
   "display_name": "Python 3",
   "language": "python",
   "name": "python3"
  },
  "language_info": {
   "codemirror_mode": {
    "name": "ipython",
    "version": 3
   },
   "file_extension": ".py",
   "mimetype": "text/x-python",
   "name": "python",
   "nbconvert_exporter": "python",
   "pygments_lexer": "ipython3",
   "version": "3.6.2"
  }
 },
 "nbformat": 4,
 "nbformat_minor": 2
}
