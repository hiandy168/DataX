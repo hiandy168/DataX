{
 "cells": [
  {
   "cell_type": "code",
   "execution_count": 15,
   "metadata": {
    "collapsed": true
   },
   "outputs": [],
   "source": [
    "import requests as req\n",
    "\n",
    "from pymongo import MongoClient\n",
    "client = MongoClient()"
   ]
  },
  {
   "cell_type": "code",
   "execution_count": 18,
   "metadata": {
    "collapsed": true
   },
   "outputs": [],
   "source": [
    "client.dhub.authenticate(\"data\", \"data\")\n",
    "WB = client['dhub']['wb_user_with_photos']"
   ]
  },
  {
   "cell_type": "code",
   "execution_count": 16,
   "metadata": {
    "collapsed": true
   },
   "outputs": [],
   "source": [
    "def mk_cookie(cstr):\n",
    "    c = {}\n",
    "    for i in cstr.split(\"; \"):\n",
    "        k, v = i.split(\"=\")\n",
    "        c[k] = v\n",
    "    return c"
   ]
  },
  {
   "cell_type": "code",
   "execution_count": 29,
   "metadata": {
    "collapsed": true
   },
   "outputs": [],
   "source": [
    "def fetch(url):\n",
    "    cookie_str = 'login_sid_t=3eb7fb23c6eed8044f13fd595a5d3052; YF-V5-G0=73b58b9e32dedf309da5103c77c3af4f; _s_tentry=-; Apache=4142553613963.9087.1499961160557; SINAGLOBAL=4142553613963.9087.1499961160557; ULV=1499961160582:1:1:1:4142553613963.9087.1499961160557:; YF-Ugrow-G0=56862bac2f6bf97368b95873bc687eef; YF-Page-G0=46f5b98560a83dd9bfdd28c040a3673e; UM_distinctid=15d74bd136e502-0e2e5ae2aa2bad-30677808-1fa400-15d74bd136f519; httpsupgrade_ab=SSL; cross_origin_proto=SSL; SSOLoginState=1507816236; un=aplysia@126.com; wvr=6; UOR=,www.weibo.com,115.159.93.137:3000; SCF=AlX5LykRtR8Sq67oyApG_UOy9JNQwAjLBp0ooZ1WtskOrIoDvFJYjH0ZF9acKgsciLFvKOOr7f-6v5nGcgPvSGo.; SUB=_2A2505mckDeThGedJ7lIZ9SjEyjyIHXVXkt_srDV8PUNbmtBeLUrzkW8pU5g0bv8SHR-dnokYiyw5sspvTw..; SUBP=0033WrSXqPxfM725Ws9jqgMF55529P9D9W54gQSJ.aHiu9XoHhdUlQUd5JpX5KMhUgL.Fo2NSK5RSKqReK52dJLoI7UyMsp4McLy; SUHB=0pHglsAtgYuqSB; ALF=1539525363; wb_cusLike_1750856810=N'\n",
    "    headers = {\n",
    "        'User-Agent': 'Mozilla/5.0 (Macintosh; Intel Mac OS X 10_12_4) AppleWebKit/537.36 (KHTML, like Gecko) Chrome/60.0.3112.113 Safari/537.36',\n",
    "        'Referer':'http://photo.weibo.com/tags/best/tag/%E4%BA%BA%E5%83%8F?prel=p3_1'\n",
    "    }\n",
    "    cookies = mk_cookie(cookie_str)\n",
    "    res = req.get(url, headers = headers, cookies=cookies)\n",
    "    return res"
   ]
  },
  {
   "cell_type": "code",
   "execution_count": 23,
   "metadata": {
    "collapsed": true
   },
   "outputs": [],
   "source": [
    "def img_name(uid, src):\n",
    "    image_hash = src.split(\"?\")[0].split(\"/\")[-1]\n",
    "    return \"photos/{}-{}\".format(uid, image_hash)"
   ]
  },
  {
   "cell_type": "code",
   "execution_count": 35,
   "metadata": {
    "collapsed": true
   },
   "outputs": [],
   "source": [
    "def dl_img(src, output):\n",
    "    print(\"Downloading image from {} to {}...\".format(src, output))\n",
    "    with open(output, \"wb\") as f:\n",
    "        res = fetch(src)\n",
    "        f.write(res.content)"
   ]
  },
  {
   "cell_type": "markdown",
   "metadata": {},
   "source": [
    "API_WITH_RID = \"http://photo.weibo.com/tags/get_photos_by_tag_name?tag=%E4%BA%BA%E5%83%8F&count=20&page={page}&type=best&rid={rid}&__rnd={ts}\"\n",
    "API = \"http://photo.weibo.com/tags/get_photos_by_tag_name?tag=%E4%BA%BA%E5%83%8F&count=20&page={page}&type=best&__rnd={ts}\""
   ]
  },
  {
   "cell_type": "markdown",
   "metadata": {
    "collapsed": true
   },
   "source": [
    "import time\n",
    "import re"
   ]
  },
  {
   "cell_type": "markdown",
   "metadata": {},
   "source": [
    "def ts():\n",
    "    return int(time.time()*1000)"
   ]
  },
  {
   "cell_type": "code",
   "execution_count": 31,
   "metadata": {
    "collapsed": true
   },
   "outputs": [],
   "source": [
    "src =\"http://wt.sinaimg.cn/thumb300/685bf46ajw1fcdmypiq2gj205k05kwem.jpg?tags=%5B%5D\"\n",
    "res = fetch(src)"
   ]
  },
  {
   "cell_type": "code",
   "execution_count": 37,
   "metadata": {},
   "outputs": [
    {
     "name": "stdout",
     "output_type": "stream",
     "text": [
      "Downloading image from http://wt.sinaimg.cn/thumb300/685bf46ajw1fcdmypiq2gj205k05kwem.jpg?tags=%5B%5D to photos/test.jpg...\n"
     ]
    }
   ],
   "source": [
    "dl_img(src, \"photos/test.jpg\")"
   ]
  },
  {
   "cell_type": "code",
   "execution_count": 38,
   "metadata": {},
   "outputs": [
    {
     "name": "stdout",
     "output_type": "stream",
     "text": [
      "Downloading image from http://wt.sinaimg.cn/thumb300/685bf46ajw1fcdmypiq2gj205k05kwem.jpg?tags=%5B%5D to photos/1005051750856810-685bf46ajw1fcdmypiq2gj205k05kwem.jpg...\n",
      "Downloading image from http://wt.sinaimg.cn/thumb300/685bf46ajw1fb7leviosej20hs5bz4gs.jpg?tags=%5B%5D to photos/1005051750856810-685bf46ajw1fb7leviosej20hs5bz4gs.jpg...\n",
      "Downloading image from http://wt.sinaimg.cn/thumb300/685bf46ajw1faq8y4oja1j20b406vaa1.jpg?tags=%5B%5D to photos/1005051750856810-685bf46ajw1faq8y4oja1j20b406vaa1.jpg...\n",
      "Downloading image from http://wt.sinaimg.cn/thumb300/685bf46ajw1faq81w1l3wj218g0xcwi9.jpg?tags=%5B%5D to photos/1005051750856810-685bf46ajw1faq81w1l3wj218g0xcwi9.jpg...\n",
      "Downloading image from http://wt.sinaimg.cn/thumb300/685bf46agw1famz284ho8j216u0r7wno.jpg?tags=%5B%5D to photos/1005051750856810-685bf46agw1famz284ho8j216u0r7wno.jpg...\n",
      "Downloading image from http://wt.sinaimg.cn/thumb300/685bf46ajw1f9d2vvfgk6j206o06o74f.jpg?tags=%5B%5D to photos/1005051750856810-685bf46ajw1f9d2vvfgk6j206o06o74f.jpg...\n",
      "Downloading image from http://wt.sinaimg.cn/thumb300/685bf46ajw1f9d2gcnvkpj206o06oq2u.jpg?tags=%5B%5D to photos/1005051750856810-685bf46ajw1f9d2gcnvkpj206o06oq2u.jpg...\n",
      "Downloading image from http://wt.sinaimg.cn/thumb300/685bf46ajw1f9d27dzaokj206o06ojrd.jpg?tags=%5B%5D to photos/1005051750856810-685bf46ajw1f9d27dzaokj206o06ojrd.jpg...\n",
      "Downloading image from http://wt.sinaimg.cn/thumb300/685bf46ajw1f9d24a1yeuj206o06oq2w.jpg?tags=%5B%5D to photos/1005051750856810-685bf46ajw1f9d24a1yeuj206o06oq2w.jpg...\n",
      "Downloading image from http://wt.sinaimg.cn/thumb300/685bf46ajw1f9d22y1ahij206o06odg1.jpg?tags=%5B%5D to photos/1005051750856810-685bf46ajw1f9d22y1ahij206o06odg1.jpg...\n",
      "Downloading image from http://wt.sinaimg.cn/thumb300/685bf46ajw1f5e7fyx4abj20h80ant99.jpg?tags=%5B%5D to photos/1005051750856810-685bf46ajw1f5e7fyx4abj20h80ant99.jpg...\n",
      "Downloading image from http://wt.sinaimg.cn/thumb300/685bf46ajw1f4kcid28fzj20k00ci0uj.jpg?tags=%5B%5D to photos/1005051750856810-685bf46ajw1f4kcid28fzj20k00ci0uj.jpg...\n",
      "Downloading image from http://wt.sinaimg.cn/thumb300/685bf46agw1f4jle922izg20hs0hs1kx.gif?tags=%5B%5D to photos/1005051750856810-685bf46agw1f4jle922izg20hs0hs1kx.gif...\n",
      "Downloading image from http://wt.sinaimg.cn/thumb300/685bf46ajw1f4imnmxg4zj20h80ant99.jpg?tags=%5B%5D to photos/1005051750856810-685bf46ajw1f4imnmxg4zj20h80ant99.jpg...\n",
      "Downloading image from http://wt.sinaimg.cn/thumb300/685bf46ajw1f49uarua5vj20h80ant99.jpg?tags=%5B%5D to photos/1005051750856810-685bf46ajw1f49uarua5vj20h80ant99.jpg...\n",
      "Downloading image from http://wt.sinaimg.cn/thumb300/685bf46agw1f3m26czk9yj21dc11g45i.jpg?tags=%5B%5D to photos/1005051750856810-685bf46agw1f3m26czk9yj21dc11g45i.jpg...\n",
      "Downloading image from http://wt.sinaimg.cn/thumb300/685bf46agw1f3m23iaxh0j20i20b4dhf.jpg?tags=%5B%5D to photos/1005051750856810-685bf46agw1f3m23iaxh0j20i20b4dhf.jpg...\n",
      "Downloading image from http://wt.sinaimg.cn/thumb300/685bf46agw1f3ah6uf43nj209k09k3yf.jpg?tags=%5B%5D to photos/1005051750856810-685bf46agw1f3ah6uf43nj209k09k3yf.jpg...\n"
     ]
    }
   ],
   "source": [
    "user = WB.find_one({\"is_processed\": True, \"$where\": \"this.photos.length > 0\"})\n",
    "while True:\n",
    "    photos = user['photos']\n",
    "    uid = user['uid']\n",
    "    for photo in photos:\n",
    "        src = \"http:\" + photo\n",
    "        dl_img(src, img_name(uid, src))\n",
    "    \n",
    "    WB.update_one({\"uid\": uid}, {\"$set\": {\"is_processed\": False}})\n",
    "    user = WB.find_one({\"is_processed\": True, \"$where\": \"this.photos.length > 0\"})"
   ]
  },
  {
   "cell_type": "code",
   "execution_count": 10,
   "metadata": {
    "collapsed": true
   },
   "outputs": [],
   "source": [
    "API_PHOTO = 'https://weibo.com/p/{}/photos'\n",
    "rePhoto = re.compile(r'\"photo_pict\" src=\"(.*?)\"')"
   ]
  },
  {
   "cell_type": "code",
   "execution_count": 14,
   "metadata": {
    "collapsed": true,
    "scrolled": true
   },
   "outputs": [],
   "source": [
    "user = WB.find_one({\"is_processed\": False})\n",
    "while user:\n",
    "    break\n",
    "    if user.get(\"refer\") is None:\n",
    "        url = API_PHOTO.format(user['uid'])\n",
    "    else:\n",
    "        url = API_PHOTO.format(\"{}{}\".format(user['refer'][:-4], user['uid']))\n",
    "    print(url)\n",
    "    res = fetch(url)\n",
    "    html = res.text.replace(\"\\\\\", \"\")\n",
    "    photos = rePhoto.findall(html)\n",
    "    WB.update_one({\"uid\": user['uid']}, {'$set': {\"is_processed\": True, \"photos\": photos}})\n",
    "    user = WB.find_one({\"is_processed\": False})"
   ]
  },
  {
   "cell_type": "code",
   "execution_count": 123,
   "metadata": {
    "collapsed": true
   },
   "outputs": [],
   "source": [
    "reFan = re.compile(r'info_name W_fb W_f14([\\s\\S]*?)div>')\n",
    "reUser = re.compile(r'id=(?P<uid>\\d+)&refer_flag=(?P<refer>\\d+)[\\s\\S]*?>(?P<nick>[\\s\\S]*?)<\\/a>[\\s\\S]*?<i class=\"W_icon icon_(?P<sex>\\w+)\">')"
   ]
  },
  {
   "cell_type": "code",
   "execution_count": 124,
   "metadata": {
    "collapsed": true
   },
   "outputs": [],
   "source": [
    "API_FOL = \"https://weibo.com/p/{uid}/follow?relate=fans\""
   ]
  },
  {
   "cell_type": "code",
   "execution_count": 125,
   "metadata": {
    "collapsed": true
   },
   "outputs": [],
   "source": [
    "MY_UID = \"1005051750856810\""
   ]
  },
  {
   "cell_type": "code",
   "execution_count": 126,
   "metadata": {
    "collapsed": true
   },
   "outputs": [],
   "source": [
    "res = fetch(API_FOL.format(uid = MY_UID))"
   ]
  },
  {
   "cell_type": "code",
   "execution_count": 132,
   "metadata": {
    "collapsed": true,
    "scrolled": false
   },
   "outputs": [],
   "source": [
    "def process_fans(uid):\n",
    "    url = API_FOL.format(uid = uid)\n",
    "    print(url)\n",
    "    res = fetch(url)\n",
    "    html = res.text\n",
    "    users = []\n",
    "\n",
    "    for fan in reFan.findall(html):\n",
    "        raw = fan.replace(\"\\\\\", \"\")\n",
    "        m = reUser.search(raw)\n",
    "        if m:\n",
    "            user = m.groupdict()\n",
    "            user['is_processed'] = False\n",
    "            users.append(user)\n",
    "    return users"
   ]
  },
  {
   "cell_type": "code",
   "execution_count": 133,
   "metadata": {},
   "outputs": [
    {
     "name": "stdout",
     "output_type": "stream",
     "text": [
      "https://weibo.com/p/1005056092524936/follow?relate=fans\n",
      "https://weibo.com/p/1005051750856810/follow?relate=fans\n"
     ]
    }
   ],
   "source": [
    "users = process_fans(\"1005056092524936\")\n",
    "users = process_fans(MY_UID)"
   ]
  },
  {
   "cell_type": "code",
   "execution_count": 135,
   "metadata": {},
   "outputs": [
    {
     "data": {
      "text/plain": [
       "<pymongo.results.InsertOneResult at 0x7f893c1257c8>"
      ]
     },
     "execution_count": 135,
     "metadata": {},
     "output_type": "execute_result"
    }
   ],
   "source": [
    "WB.delete_many({})\n",
    "WB.insert_one({\"uid\": MY_UID, \"is_processed\": False})"
   ]
  },
  {
   "cell_type": "code",
   "execution_count": null,
   "metadata": {
    "collapsed": true,
    "scrolled": false
   },
   "outputs": [],
   "source": [
    "i = 0\n",
    "while False:\n",
    "    u = WB.find_one({\"is_processed\": False})\n",
    "    if not u or i > 10:\n",
    "        break\n",
    "    \n",
    "    ref = u.get(\"refer\")\n",
    "    if ref:\n",
    "        uid = \"{}{}\".format(ref[:-4], u['uid'])\n",
    "    else:\n",
    "        uid = u['uid']\n",
    "    users = process_fans(uid)\n",
    "    for user in users:\n",
    "        ex = WB.find_one({\"uid\": user['uid']})\n",
    "        if not ex:\n",
    "            print(\"User: {}\".format(user['nick']))\n",
    "            WB.insert_one(user)\n",
    "    WB.update_one({\"uid\": u['uid']}, {\"$set\": {\"is_processed\": True}})\n",
    "    i += 1"
   ]
  },
  {
   "cell_type": "markdown",
   "metadata": {},
   "source": [
    "rid = None\n",
    "for page in range(1, 500):\n",
    "    try:\n",
    "        if page == 1:\n",
    "            url = API.format(page = page, ts = ts())\n",
    "        else:\n",
    "            url = API_WITH_RID.format(page = page, rid = rid, ts = ts())\n",
    "        \n",
    "        print(url)\n",
    "        res = fetch(url)\n",
    "        if res.status_code == 200:\n",
    "            js = res.json()\n",
    "            rid = js['data']['rid']\n",
    "            photos = js['data']['photos']\n",
    "            WB.insert_many(photos)\n",
    "    except Exception as e:\n",
    "        print(e)\n",
    "        print(\"Failed at {}\".format(url))"
   ]
  },
  {
   "cell_type": "code",
   "execution_count": null,
   "metadata": {
    "collapsed": true
   },
   "outputs": [],
   "source": []
  }
 ],
 "metadata": {
  "kernelspec": {
   "display_name": "Python 3",
   "language": "python",
   "name": "python3"
  },
  "language_info": {
   "codemirror_mode": {
    "name": "ipython",
    "version": 3
   },
   "file_extension": ".py",
   "mimetype": "text/x-python",
   "name": "python",
   "nbconvert_exporter": "python",
   "pygments_lexer": "ipython3",
   "version": "3.6.2"
  }
 },
 "nbformat": 4,
 "nbformat_minor": 2
}
