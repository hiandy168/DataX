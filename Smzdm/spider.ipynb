{
 "cells": [
  {
   "cell_type": "code",
   "execution_count": 1,
   "metadata": {
    "collapsed": true
   },
   "outputs": [],
   "source": [
    "from pymongo import MongoClient\n",
    "client = MongoClient()\n",
    "\n",
    "import requests as req\n",
    "\n",
    "import re\n",
    "from datetime import datetime"
   ]
  },
  {
   "cell_type": "code",
   "execution_count": 2,
   "metadata": {
    "collapsed": true
   },
   "outputs": [],
   "source": [
    "def fetch(url):\n",
    "    headers = {\n",
    "        'User-Agent': 'Mozilla/5.0 (Macintosh; Intel Mac OS X 10_12_4) AppleWebKit/537.36 (KHTML, like Gecko) Chrome/60.0.3112.113 Safari/537.36'\n",
    "    }\n",
    "    res = req.get(url, headers = headers)\n",
    "    return res.text"
   ]
  },
  {
   "cell_type": "code",
   "execution_count": 3,
   "metadata": {
    "collapsed": true
   },
   "outputs": [],
   "source": [
    "html = fetch('http://www.smzdm.com/fenlei/')"
   ]
  },
  {
   "cell_type": "code",
   "execution_count": 4,
   "metadata": {
    "collapsed": true
   },
   "outputs": [],
   "source": [
    "reFenlei = re.compile('<h2[\\s\\S]*?\\/fenlei\\/(\\w+)\\/\">[\\s\\S]*?<\\/i>([\\s\\S]*?)<\\/a>[\\s\\S]*?<\\/h2>')"
   ]
  },
  {
   "cell_type": "code",
   "execution_count": 5,
   "metadata": {},
   "outputs": [
    {
     "data": {
      "text/plain": [
       "[('diannaoshuma', '电脑数码'),\n",
       " ('jiayongdianqi', '家用电器'),\n",
       " ('yundonghuwai', '运动户外'),\n",
       " ('fushixiebao', '服饰鞋包'),\n",
       " ('gehuhuazhuang', '个护化妆'),\n",
       " ('muyingyongpin', '母婴用品'),\n",
       " ('riyongbaihuo', '日用百货'),\n",
       " ('shipinbaojian', '食品保健'),\n",
       " ('lipinzhongbiao', '礼品钟表'),\n",
       " ('tushuyinxiang', '图书音像'),\n",
       " ('wanmoyueqi', '玩模乐器'),\n",
       " ('bangongshebei', '办公设备'),\n",
       " ('jiajujiazhuang', '家居家装'),\n",
       " ('qicheyongpin', '汽车消费'),\n",
       " ('jinronglvyou', '金融服务'),\n",
       " ('lvyouchuxing', '旅游出行'),\n",
       " ('wenhuayule', '文化娱乐'),\n",
       " ('fangchanzhiye', '房产置业')]"
      ]
     },
     "execution_count": 5,
     "metadata": {},
     "output_type": "execute_result"
    }
   ],
   "source": [
    "categories = reFenlei.findall(html)\n",
    "categories"
   ]
  },
  {
   "cell_type": "code",
   "execution_count": 6,
   "metadata": {
    "collapsed": true
   },
   "outputs": [],
   "source": [
    "def get_first(l, default = None):\n",
    "    if not l:\n",
    "        return default\n",
    "    else:\n",
    "        return l[0]\n",
    "def processItem(item, cate):\n",
    "    record = {'fenlei': cate[0], 'new': True, 'fenlei_face': cate[1]}\n",
    "    reStore = re.compile(r'class=\"mall\" target=\"_blank\">([\\s\\S]*?)<')\n",
    "    reSourcer = re.compile(r'>爆料人：([\\s\\S]*?)<')\n",
    "    reComments = re.compile(r'<i class=\"z-icon-comment\"><\\/i>(\\d+)\\s+<\\/a>')\n",
    "    reFavorites = re.compile(r'<i class=\"z-icon-star-empty\"><\\/i>\\s+<span>(\\d+)<\\/span>')\n",
    "    \n",
    "    store = reStore.findall(item)\n",
    "    sourcer = reSourcer.findall(item)\n",
    "    comments = reComments.findall(item)\n",
    "    favorites = reFavorites.findall(item)\n",
    "    \n",
    "    record['store'] = get_first(store)\n",
    "    record['sourcer'] = get_first(sourcer)\n",
    "    record['comments'] = int(comments[0])\n",
    "    record['favs'] = int(favorites[0])\n",
    "    \n",
    "    rePid = re.compile(r'http:\\/\\/www\\.smzdm\\.com\\/p\\/(\\d+)\\/')\n",
    "    record['pid'] = rePid.findall(item)[0]\n",
    "    reTitle = re.compile(r'<h5.*?>\\s*<a.*?>\\s*<span.*?>(?P<tag>[\\s\\S]*?)<\\/span>(?P<title>[\\s\\S]*?)<span.*?>(?P<price>[\\s\\S]*?)<\\/span>\\s*<\\/a>')\n",
    "    reUpvote = re.compile(r'<span class=\"unvoted-wrap\">[\\s\\S]*?<span>(\\d+)<\\/span>')\n",
    "    reTags = re.compile(r'<span class=\"feed-block-tags\">([\\s\\S]*?)</span>')\n",
    "    m = reTitle.search(item)\n",
    "    record['label'] = m.group(\"tag\")\n",
    "    record['title'] = m.group(\"title\").strip()\n",
    "    record['price'] = m.group(\"price\")\n",
    "    [u, d] = reUpvote.findall(item)\n",
    "    record['upvote'] = int(u)\n",
    "    record['downvote'] = int(d)\n",
    "    reTagContent = re.compile(r'<a.*?>([\\s\\S]*?)<\\/a>')\n",
    "    \n",
    "    tags = reTagContent.findall(reTags.findall(item)[0])\n",
    "    record['tags'] = tags\n",
    "    return record"
   ]
  },
  {
   "cell_type": "code",
   "execution_count": null,
   "metadata": {
    "scrolled": false
   },
   "outputs": [
    {
     "name": "stdout",
     "output_type": "stream",
     "text": [
      "Processing http://www.smzdm.com/fenlei/diannaoshuma\n",
      "'NoneType' object has no attribute 'group'\n",
      "Failed at http://www.smzdm.com/fenlei/diannaoshuma/p11\n",
      "list index out of range\n",
      "Failed at http://www.smzdm.com/fenlei/diannaoshuma/p196\n",
      "'NoneType' object has no attribute 'group'\n",
      "Failed at http://www.smzdm.com/fenlei/diannaoshuma/p280\n",
      "'NoneType' object has no attribute 'group'\n",
      "Failed at http://www.smzdm.com/fenlei/diannaoshuma/p378\n",
      "Processing http://www.smzdm.com/fenlei/jiayongdianqi\n",
      "'NoneType' object has no attribute 'group'\n",
      "Failed at http://www.smzdm.com/fenlei/jiayongdianqi/p69\n",
      "'NoneType' object has no attribute 'group'\n",
      "Failed at http://www.smzdm.com/fenlei/jiayongdianqi/p251\n",
      "'NoneType' object has no attribute 'group'\n",
      "Failed at http://www.smzdm.com/fenlei/jiayongdianqi/p261\n",
      "Processing http://www.smzdm.com/fenlei/yundonghuwai\n",
      "Processing http://www.smzdm.com/fenlei/fushixiebao\n",
      "'NoneType' object has no attribute 'group'\n",
      "Failed at http://www.smzdm.com/fenlei/fushixiebao/p20\n",
      "'NoneType' object has no attribute 'group'\n",
      "Failed at http://www.smzdm.com/fenlei/fushixiebao/p359\n",
      "Processing http://www.smzdm.com/fenlei/gehuhuazhuang\n",
      "'NoneType' object has no attribute 'group'\n",
      "Failed at http://www.smzdm.com/fenlei/gehuhuazhuang/p134\n",
      "Processing http://www.smzdm.com/fenlei/muyingyongpin\n",
      "'NoneType' object has no attribute 'group'\n",
      "Failed at http://www.smzdm.com/fenlei/muyingyongpin/p102\n",
      "'NoneType' object has no attribute 'group'\n",
      "Failed at http://www.smzdm.com/fenlei/muyingyongpin/p206\n",
      "'NoneType' object has no attribute 'group'\n",
      "Failed at http://www.smzdm.com/fenlei/muyingyongpin/p224\n",
      "'NoneType' object has no attribute 'group'\n",
      "Failed at http://www.smzdm.com/fenlei/muyingyongpin/p313\n",
      "Processing http://www.smzdm.com/fenlei/riyongbaihuo\n",
      "Processing http://www.smzdm.com/fenlei/shipinbaojian\n",
      "'NoneType' object has no attribute 'group'\n",
      "Failed at http://www.smzdm.com/fenlei/shipinbaojian/p90\n",
      "Processing http://www.smzdm.com/fenlei/lipinzhongbiao\n",
      "Processing http://www.smzdm.com/fenlei/tushuyinxiang\n",
      "Processing http://www.smzdm.com/fenlei/wanmoyueqi\n",
      "'NoneType' object has no attribute 'group'\n",
      "Failed at http://www.smzdm.com/fenlei/wanmoyueqi/p36\n",
      "Processing http://www.smzdm.com/fenlei/bangongshebei\n",
      "'NoneType' object has no attribute 'group'\n",
      "Failed at http://www.smzdm.com/fenlei/bangongshebei/p7\n",
      "'NoneType' object has no attribute 'group'\n",
      "Failed at http://www.smzdm.com/fenlei/bangongshebei/p104\n",
      "'NoneType' object has no attribute 'group'\n",
      "Failed at http://www.smzdm.com/fenlei/bangongshebei/p283\n",
      "Processing http://www.smzdm.com/fenlei/jiajujiazhuang\n",
      "Processing http://www.smzdm.com/fenlei/qicheyongpin\n",
      "'NoneType' object has no attribute 'group'\n",
      "Failed at http://www.smzdm.com/fenlei/qicheyongpin/p12\n",
      "list index out of range\n",
      "Failed at http://www.smzdm.com/fenlei/qicheyongpin/p24\n",
      "Processing http://www.smzdm.com/fenlei/jinronglvyou\n",
      "Processing http://www.smzdm.com/fenlei/lvyouchuxing\n",
      "Processing http://www.smzdm.com/fenlei/wenhuayule\n"
     ]
    }
   ],
   "source": [
    "client['dhub'].authenticate(\"data\", \"data\")\n",
    "SMZDM = client['dhub']['smzdm']\n",
    "reItem = re.compile(r'<li class=\"feed-row-wide\">([\\s\\S]*?)<\\/li>')\n",
    "\n",
    "\n",
    "for cate in categories:\n",
    "    \n",
    "    ent = \"http://www.smzdm.com/fenlei/{}\".format(cate[0])\n",
    "    print(\"Processing {}\".format(ent))\n",
    "    for page in range(1, 400):\n",
    "        url = \"{}/p{}\".format(ent, page)\n",
    "        try:\n",
    "            html = fetch(url)\n",
    "            for item in reItem.findall(html):\n",
    "                doc = processItem(item, cate)\n",
    "                pid = SMZDM.find_one({\"pid\": doc['pid']})\n",
    "                if not pid:\n",
    "                    SMZDM.insert_one(doc)\n",
    "                else:\n",
    "                    SMZDM.find_one_and_replace({\"pid\": doc['pid']}, doc)\n",
    "        except Exception as e:\n",
    "            print(e)\n",
    "            print(\"Failed at {}\".format(url))"
   ]
  },
  {
   "cell_type": "code",
   "execution_count": null,
   "metadata": {
    "collapsed": true
   },
   "outputs": [],
   "source": []
  }
 ],
 "metadata": {
  "kernelspec": {
   "display_name": "Python 3",
   "language": "python",
   "name": "python3"
  },
  "language_info": {
   "codemirror_mode": {
    "name": "ipython",
    "version": 3
   },
   "file_extension": ".py",
   "mimetype": "text/x-python",
   "name": "python",
   "nbconvert_exporter": "python",
   "pygments_lexer": "ipython3",
   "version": "3.6.2"
  }
 },
 "nbformat": 4,
 "nbformat_minor": 2
}
