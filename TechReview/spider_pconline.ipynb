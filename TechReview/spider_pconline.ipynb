{
 "cells": [
  {
   "cell_type": "code",
   "execution_count": 1,
   "metadata": {
    "collapsed": true
   },
   "outputs": [],
   "source": [
    "import requests as req\n",
    "import re\n",
    "from db import DB"
   ]
  },
  {
   "cell_type": "code",
   "execution_count": 2,
   "metadata": {
    "collapsed": true
   },
   "outputs": [],
   "source": [
    "HomePage = 'http://product.pconline.com.cn/mobile'\n",
    "ENT = 'http://product.pconline.com.cn/mobile/{}s1.shtml'"
   ]
  },
  {
   "cell_type": "code",
   "execution_count": 9,
   "metadata": {
    "collapsed": true
   },
   "outputs": [],
   "source": [
    "reItem = re.compile(r'<div class=\"item-pic\">([\\s\\S]*?)<\\/div>')\n",
    "reInfo = re.compile(r'<a href=\"(?P<href>.*?)\".*?<img.*?alt=\"(?P<title>[\\s\\S]*?)\"')"
   ]
  },
  {
   "cell_type": "code",
   "execution_count": 6,
   "metadata": {
    "collapsed": true
   },
   "outputs": [],
   "source": [
    "res = req.get(ENT.format(25))\n",
    "html = res.text"
   ]
  },
  {
   "cell_type": "code",
   "execution_count": 16,
   "metadata": {},
   "outputs": [],
   "source": [
    "def process_model(html):\n",
    "    model = []\n",
    "    for item in reItem.findall(html):\n",
    "        for i in reInfo.finditer(item):\n",
    "            phone = i.groupdict()\n",
    "            phone['source'] = 'PConline'\n",
    "            phone['pid'] = phone.get('href').split(\"/\")[-1].split(\".\")[0]\n",
    "            phone['kind'] = 'Overall'\n",
    "            model.append(phone)\n",
    "    return model"
   ]
  },
  {
   "cell_type": "code",
   "execution_count": 18,
   "metadata": {},
   "outputs": [
    {
     "name": "stdout",
     "output_type": "stream",
     "text": [
      "http://product.pconline.com.cn/mobile/25s1.shtml\n",
      "http://product.pconline.com.cn/mobile/50s1.shtml\n",
      "http://product.pconline.com.cn/mobile/75s1.shtml\n",
      "http://product.pconline.com.cn/mobile/100s1.shtml\n",
      "http://product.pconline.com.cn/mobile/125s1.shtml\n",
      "http://product.pconline.com.cn/mobile/150s1.shtml\n",
      "http://product.pconline.com.cn/mobile/175s1.shtml\n",
      "http://product.pconline.com.cn/mobile/200s1.shtml\n",
      "http://product.pconline.com.cn/mobile/225s1.shtml\n",
      "http://product.pconline.com.cn/mobile/250s1.shtml\n",
      "http://product.pconline.com.cn/mobile/275s1.shtml\n",
      "http://product.pconline.com.cn/mobile/300s1.shtml\n",
      "http://product.pconline.com.cn/mobile/325s1.shtml\n",
      "http://product.pconline.com.cn/mobile/350s1.shtml\n",
      "http://product.pconline.com.cn/mobile/375s1.shtml\n",
      "http://product.pconline.com.cn/mobile/400s1.shtml\n",
      "http://product.pconline.com.cn/mobile/425s1.shtml\n",
      "http://product.pconline.com.cn/mobile/450s1.shtml\n",
      "http://product.pconline.com.cn/mobile/475s1.shtml\n",
      "http://product.pconline.com.cn/mobile/500s1.shtml\n",
      "http://product.pconline.com.cn/mobile/525s1.shtml\n",
      "http://product.pconline.com.cn/mobile/550s1.shtml\n",
      "http://product.pconline.com.cn/mobile/575s1.shtml\n",
      "http://product.pconline.com.cn/mobile/600s1.shtml\n",
      "http://product.pconline.com.cn/mobile/625s1.shtml\n",
      "http://product.pconline.com.cn/mobile/650s1.shtml\n",
      "http://product.pconline.com.cn/mobile/675s1.shtml\n",
      "http://product.pconline.com.cn/mobile/700s1.shtml\n",
      "http://product.pconline.com.cn/mobile/725s1.shtml\n",
      "http://product.pconline.com.cn/mobile/750s1.shtml\n",
      "http://product.pconline.com.cn/mobile/775s1.shtml\n",
      "http://product.pconline.com.cn/mobile/800s1.shtml\n",
      "http://product.pconline.com.cn/mobile/825s1.shtml\n",
      "http://product.pconline.com.cn/mobile/850s1.shtml\n",
      "http://product.pconline.com.cn/mobile/875s1.shtml\n",
      "http://product.pconline.com.cn/mobile/900s1.shtml\n",
      "http://product.pconline.com.cn/mobile/925s1.shtml\n",
      "http://product.pconline.com.cn/mobile/950s1.shtml\n",
      "http://product.pconline.com.cn/mobile/975s1.shtml\n",
      "http://product.pconline.com.cn/mobile/1000s1.shtml\n",
      "http://product.pconline.com.cn/mobile/1025s1.shtml\n",
      "http://product.pconline.com.cn/mobile/1050s1.shtml\n",
      "http://product.pconline.com.cn/mobile/1075s1.shtml\n",
      "http://product.pconline.com.cn/mobile/1100s1.shtml\n",
      "http://product.pconline.com.cn/mobile/1125s1.shtml\n",
      "http://product.pconline.com.cn/mobile/1150s1.shtml\n",
      "http://product.pconline.com.cn/mobile/1175s1.shtml\n",
      "http://product.pconline.com.cn/mobile/1200s1.shtml\n",
      "http://product.pconline.com.cn/mobile/1225s1.shtml\n",
      "http://product.pconline.com.cn/mobile/1250s1.shtml\n",
      "http://product.pconline.com.cn/mobile/1275s1.shtml\n",
      "http://product.pconline.com.cn/mobile/1300s1.shtml\n",
      "http://product.pconline.com.cn/mobile/1325s1.shtml\n",
      "http://product.pconline.com.cn/mobile/1350s1.shtml\n",
      "http://product.pconline.com.cn/mobile/1375s1.shtml\n",
      "http://product.pconline.com.cn/mobile/1400s1.shtml\n",
      "http://product.pconline.com.cn/mobile/1425s1.shtml\n",
      "http://product.pconline.com.cn/mobile/1450s1.shtml\n",
      "http://product.pconline.com.cn/mobile/1475s1.shtml\n",
      "http://product.pconline.com.cn/mobile/1500s1.shtml\n",
      "http://product.pconline.com.cn/mobile/1525s1.shtml\n",
      "http://product.pconline.com.cn/mobile/1550s1.shtml\n",
      "http://product.pconline.com.cn/mobile/1575s1.shtml\n",
      "http://product.pconline.com.cn/mobile/1600s1.shtml\n",
      "http://product.pconline.com.cn/mobile/1625s1.shtml\n",
      "http://product.pconline.com.cn/mobile/1650s1.shtml\n",
      "http://product.pconline.com.cn/mobile/1675s1.shtml\n",
      "http://product.pconline.com.cn/mobile/1700s1.shtml\n",
      "http://product.pconline.com.cn/mobile/1725s1.shtml\n",
      "http://product.pconline.com.cn/mobile/1750s1.shtml\n",
      "http://product.pconline.com.cn/mobile/1775s1.shtml\n",
      "http://product.pconline.com.cn/mobile/1800s1.shtml\n",
      "http://product.pconline.com.cn/mobile/1825s1.shtml\n",
      "http://product.pconline.com.cn/mobile/1850s1.shtml\n",
      "http://product.pconline.com.cn/mobile/1875s1.shtml\n",
      "http://product.pconline.com.cn/mobile/1900s1.shtml\n",
      "http://product.pconline.com.cn/mobile/1925s1.shtml\n",
      "http://product.pconline.com.cn/mobile/1950s1.shtml\n",
      "http://product.pconline.com.cn/mobile/1975s1.shtml\n",
      "http://product.pconline.com.cn/mobile/2000s1.shtml\n",
      "http://product.pconline.com.cn/mobile/2025s1.shtml\n",
      "http://product.pconline.com.cn/mobile/2050s1.shtml\n",
      "http://product.pconline.com.cn/mobile/2075s1.shtml\n",
      "http://product.pconline.com.cn/mobile/2100s1.shtml\n",
      "http://product.pconline.com.cn/mobile/2125s1.shtml\n",
      "http://product.pconline.com.cn/mobile/2150s1.shtml\n",
      "http://product.pconline.com.cn/mobile/2175s1.shtml\n",
      "http://product.pconline.com.cn/mobile/2200s1.shtml\n",
      "http://product.pconline.com.cn/mobile/2225s1.shtml\n",
      "http://product.pconline.com.cn/mobile/2250s1.shtml\n",
      "http://product.pconline.com.cn/mobile/2275s1.shtml\n",
      "http://product.pconline.com.cn/mobile/2300s1.shtml\n",
      "http://product.pconline.com.cn/mobile/2325s1.shtml\n",
      "http://product.pconline.com.cn/mobile/2350s1.shtml\n",
      "http://product.pconline.com.cn/mobile/2375s1.shtml\n",
      "http://product.pconline.com.cn/mobile/2400s1.shtml\n",
      "http://product.pconline.com.cn/mobile/2425s1.shtml\n",
      "http://product.pconline.com.cn/mobile/2450s1.shtml\n",
      "http://product.pconline.com.cn/mobile/2475s1.shtml\n",
      "http://product.pconline.com.cn/mobile/2500s1.shtml\n",
      "http://product.pconline.com.cn/mobile/2525s1.shtml\n",
      "http://product.pconline.com.cn/mobile/2550s1.shtml\n",
      "http://product.pconline.com.cn/mobile/2575s1.shtml\n",
      "http://product.pconline.com.cn/mobile/2600s1.shtml\n",
      "http://product.pconline.com.cn/mobile/2625s1.shtml\n",
      "http://product.pconline.com.cn/mobile/2650s1.shtml\n",
      "http://product.pconline.com.cn/mobile/2675s1.shtml\n",
      "http://product.pconline.com.cn/mobile/2700s1.shtml\n",
      "http://product.pconline.com.cn/mobile/2725s1.shtml\n",
      "http://product.pconline.com.cn/mobile/2750s1.shtml\n",
      "http://product.pconline.com.cn/mobile/2775s1.shtml\n",
      "http://product.pconline.com.cn/mobile/2800s1.shtml\n",
      "http://product.pconline.com.cn/mobile/2825s1.shtml\n"
     ]
    }
   ],
   "source": [
    "for page in range(2, 115):\n",
    "    url = ENT.format((page - 1)*25)\n",
    "    print(url)\n",
    "    res = req.get(url)\n",
    "    models = process_model(res.text)\n",
    "    \n",
    "    DB.insert_many(models)"
   ]
  },
  {
   "cell_type": "code",
   "execution_count": 67,
   "metadata": {
    "collapsed": true
   },
   "outputs": [],
   "source": [
    "#href = 'http://product.pconline.com.cn/mobile/apple/616067_comment.html'\n",
    "#href = 'http://product.pconline.com.cn/mobile/huawei/637114_comment.html'\n",
    "href = 'http://product.pconline.com.cn/mobile/samsung/643289_comment.html'"
   ]
  },
  {
   "cell_type": "code",
   "execution_count": 68,
   "metadata": {},
   "outputs": [],
   "source": [
    "#ent = 'http://pdcmt.pconline.com.cn/front/2015/mtp-list.jsp?productId=616067&filterBy=-1&itemCfgId=-1&order=2&pageNo={}&vId=425065'\n",
    "#ent = 'http://pdcmt.pconline.com.cn/front/2015/mtp-list.jsp?productId=637114&filterBy=-1&itemCfgId=-1&order=2&pageNo={}&vId=427685'\n",
    "ent = 'http://pdcmt.pconline.com.cn/front/2015/mtp-list.jsp?productId=643289&filterBy=-1&itemCfgId=-1&order=2&pageNo={}&vId=428104'"
   ]
  },
  {
   "cell_type": "code",
   "execution_count": 63,
   "metadata": {
    "collapsed": true
   },
   "outputs": [],
   "source": [
    "def process_comments(html, product, pid):\n",
    "    reUL = re.compile(r'<ul class=\"goal-detail\">([\\s\\S]*?)<\\/ul>')\n",
    "    reOverall = re.compile(r'<div class=\"c-out\" score=\"(.*?)\">')\n",
    "    reFeature = re.compile(r'<li>(?P<feature>[\\s\\S]*?)：(?P<score>.*?)<\\/li>')\n",
    "    \n",
    "    comments  = []\n",
    "    \n",
    "    for cmt in zip(reUL.findall(html), reOverall.findall(html)):\n",
    "        score = dict(reFeature.findall(cmt[0]))\n",
    "        score['overall'] = float(cmt[1])\n",
    "        score['source'] = 'PConline'\n",
    "        score['product'] = product\n",
    "        score['pid'] = pid\n",
    "        score['kind'] = 'Scores'\n",
    "        comments.append(score)\n",
    "    return comments\n",
    "        "
   ]
  },
  {
   "cell_type": "code",
   "execution_count": 56,
   "metadata": {
    "collapsed": true
   },
   "outputs": [],
   "source": [
    "def ent_page(url, pat, product, pageno):\n",
    "    pid = url.split(\"/\")[-1].split(\".\")[0]\n",
    "    res = req.get(url)\n",
    "    comments = process_comments(res.text, product, pid)\n",
    "    DB.insert_many(comments)\n",
    "    \n",
    "    for page in range(2, pageno + 1):\n",
    "        url = pat.format(page)\n",
    "        res = req.get(url)\n",
    "        comments = process_comments(res.text, product, pid)\n",
    "        \n",
    "        DB.insert_many(comments)"
   ]
  },
  {
   "cell_type": "code",
   "execution_count": 69,
   "metadata": {},
   "outputs": [],
   "source": [
    "ent_page(href, ent, 'S8', 5)"
   ]
  },
  {
   "cell_type": "code",
   "execution_count": 58,
   "metadata": {
    "collapsed": true
   },
   "outputs": [],
   "source": [
    "lst = list(DB.find({'kind': 'Overall', 'source': 'PConline'}))"
   ]
  },
  {
   "cell_type": "code",
   "execution_count": 66,
   "metadata": {},
   "outputs": [
    {
     "name": "stdout",
     "output_type": "stream",
     "text": [
      "{'_id': ObjectId('59eb55a8b735f761862b59d6'), 'href': 'http://product.pconline.com.cn/mobile/samsung/643289.html', 'title': '三星S8+', 'source': 'PConline', 'pid': '643289', 'kind': 'Overall'}\n"
     ]
    }
   ],
   "source": [
    "for l in lst:\n",
    "    if '三星S8' in l.get(\"title\"):\n",
    "        print(l)"
   ]
  },
  {
   "cell_type": "code",
   "execution_count": null,
   "metadata": {
    "collapsed": true
   },
   "outputs": [],
   "source": []
  }
 ],
 "metadata": {
  "kernelspec": {
   "display_name": "Python 3",
   "language": "python",
   "name": "python3"
  },
  "language_info": {
   "codemirror_mode": {
    "name": "ipython",
    "version": 3
   },
   "file_extension": ".py",
   "mimetype": "text/x-python",
   "name": "python",
   "nbconvert_exporter": "python",
   "pygments_lexer": "ipython3",
   "version": "3.6.2"
  }
 },
 "nbformat": 4,
 "nbformat_minor": 2
}
